{
  "nbformat": 4,
  "nbformat_minor": 0,
  "metadata": {
    "colab": {
      "provenance": [],
      "authorship_tag": "ABX9TyNf6NCo9p1Ut1tz34Xrs0IR",
      "include_colab_link": true
    },
    "kernelspec": {
      "name": "python3",
      "display_name": "Python 3"
    },
    "language_info": {
      "name": "python"
    }
  },
  "cells": [
    {
      "cell_type": "markdown",
      "metadata": {
        "id": "view-in-github",
        "colab_type": "text"
      },
      "source": [
        "<a href=\"https://colab.research.google.com/github/ERIC10000/Introduction-to-Numpy/blob/main/IntroductionToNumpy.ipynb\" target=\"_parent\"><img src=\"https://colab.research.google.com/assets/colab-badge.svg\" alt=\"Open In Colab\"/></a>"
      ]
    },
    {
      "cell_type": "markdown",
      "source": [
        "# What is Numpy\n",
        "\n",
        "Open Source Libary that forms the Universal Standard of working with Numerical Data(Matrix, Vectors) and forms the underlying foundation for libraries like Pandas and Matplotlib.\n",
        "\n",
        "### Numpy Arrays\n",
        "This is the main Data Structure in Numpy and it has the following properties:\n",
        "\n",
        "1. Can only store a single data type.\n",
        "2. They can be either one dimension or multi-dimension\n",
        "3. Their elements can be modified and are fixed-size(cannot change the length)"
      ],
      "metadata": {
        "id": "rlSQkiyieyG-"
      }
    },
    {
      "cell_type": "code",
      "execution_count": 1,
      "metadata": {
        "id": "qLfsDMIGeGJa"
      },
      "outputs": [],
      "source": [
        "import numpy as np\n"
      ]
    },
    {
      "cell_type": "code",
      "source": [
        "# converting a python list to a numpy array\n",
        "sales = [0, 5, 155, 0, 518, 0, 1827, 616, 317, 325]\n",
        "print(type(sales))"
      ],
      "metadata": {
        "colab": {
          "base_uri": "https://localhost:8080/"
        },
        "id": "w8mTul_GhA3Z",
        "outputId": "90ad0b14-5f9a-4536-db49-0517b561dcb1"
      },
      "execution_count": 2,
      "outputs": [
        {
          "output_type": "stream",
          "name": "stdout",
          "text": [
            "<class 'list'>\n"
          ]
        }
      ]
    },
    {
      "cell_type": "code",
      "source": [
        "sales_array = np.array(sales)\n",
        "print(type(sales_array))"
      ],
      "metadata": {
        "colab": {
          "base_uri": "https://localhost:8080/"
        },
        "id": "8sxVx76yhvST",
        "outputId": "8a4c1055-460c-4700-ff07-8ede1654dc32"
      },
      "execution_count": 3,
      "outputs": [
        {
          "output_type": "stream",
          "name": "stdout",
          "text": [
            "<class 'numpy.ndarray'>\n"
          ]
        }
      ]
    },
    {
      "cell_type": "code",
      "source": [
        "# properies\n",
        "# ndim: number of dimension\n",
        "# shape: rows and columns\n",
        "# size: total number of elements\n",
        "# dtype: Data Type within the array\n",
        "\n",
        "print(sales_array.ndim)\n",
        "print(sales_array.shape)\n",
        "print(sales_array.size)\n",
        "print(sales_array.dtype)"
      ],
      "metadata": {
        "colab": {
          "base_uri": "https://localhost:8080/"
        },
        "id": "KZl_6ONmiGr-",
        "outputId": "d64d6c97-81bb-4d62-d49f-db396af2f232"
      },
      "execution_count": 4,
      "outputs": [
        {
          "output_type": "stream",
          "name": "stdout",
          "text": [
            "1\n",
            "(10,)\n",
            "10\n",
            "int64\n"
          ]
        }
      ]
    },
    {
      "cell_type": "code",
      "source": [
        "sales = [[0, 5, 155, 0, 518], [0, 1827, 616, 317, 325]]\n",
        "sales_array = np.array(sales)\n",
        "\n",
        "print(sales_array.ndim)\n",
        "print(sales_array.shape)\n",
        "print(sales_array.size)\n",
        "print(sales_array.dtype)\n"
      ],
      "metadata": {
        "colab": {
          "base_uri": "https://localhost:8080/"
        },
        "id": "y--NdUTtjE_R",
        "outputId": "e7f214a1-b9a1-458f-980a-e412d64b47be"
      },
      "execution_count": 5,
      "outputs": [
        {
          "output_type": "stream",
          "name": "stdout",
          "text": [
            "2\n",
            "(2, 5)\n",
            "10\n",
            "int64\n"
          ]
        }
      ]
    },
    {
      "cell_type": "markdown",
      "source": [
        "## Numpy Array Creation\n",
        "We use the following function:\n",
        "1. np.ones()\n",
        "2. np.zeros()\n",
        "3. np.arange()\n",
        "4. np.linspace()\n",
        "5. np.array.reshape()"
      ],
      "metadata": {
        "id": "H15lXwXHkQCx"
      }
    },
    {
      "cell_type": "code",
      "source": [
        "# ones: float by default\n",
        "ones = np.ones(5)\n",
        "ones.dtype\n"
      ],
      "metadata": {
        "colab": {
          "base_uri": "https://localhost:8080/"
        },
        "id": "y8q-9poLkwAA",
        "outputId": "f70fb4d8-8ef5-4450-8204-280856ab4c87"
      },
      "execution_count": 7,
      "outputs": [
        {
          "output_type": "execute_result",
          "data": {
            "text/plain": [
              "dtype('float64')"
            ]
          },
          "metadata": {},
          "execution_count": 7
        }
      ]
    },
    {
      "cell_type": "code",
      "source": [
        "zeros = np.zeros(5, dtype=int)\n",
        "zeros.dtype\n",
        "\n",
        "#"
      ],
      "metadata": {
        "colab": {
          "base_uri": "https://localhost:8080/"
        },
        "id": "pJdsxRXjlOmF",
        "outputId": "747f9f7b-80f5-401f-ee90-a2f7d48cbcc9"
      },
      "execution_count": 9,
      "outputs": [
        {
          "output_type": "execute_result",
          "data": {
            "text/plain": [
              "dtype('int64')"
            ]
          },
          "metadata": {},
          "execution_count": 9
        }
      ]
    },
    {
      "cell_type": "code",
      "source": [
        "# arange(start, stop, step)\n",
        "np.arange(2, 10, 2).reshape(2, 2)"
      ],
      "metadata": {
        "colab": {
          "base_uri": "https://localhost:8080/"
        },
        "id": "JE_agi_2llHo",
        "outputId": "21917e30-62eb-4abc-b07b-42c165fe0213"
      },
      "execution_count": 15,
      "outputs": [
        {
          "output_type": "execute_result",
          "data": {
            "text/plain": [
              "array([[2, 4],\n",
              "       [6, 8]])"
            ]
          },
          "metadata": {},
          "execution_count": 15
        }
      ]
    },
    {
      "cell_type": "code",
      "source": [
        "# linspace()\n",
        "np.linspace(0, 1000, 5)"
      ],
      "metadata": {
        "colab": {
          "base_uri": "https://localhost:8080/"
        },
        "id": "OA4Kkw_Ll1mF",
        "outputId": "d915fb65-9463-4fe9-fa54-a047803062dd"
      },
      "execution_count": 14,
      "outputs": [
        {
          "output_type": "execute_result",
          "data": {
            "text/plain": [
              "array([   0.,  250.,  500.,  750., 1000.])"
            ]
          },
          "metadata": {},
          "execution_count": 14
        }
      ]
    },
    {
      "cell_type": "markdown",
      "source": [
        "### Indexing and Slicing Numpy Arrays\n"
      ],
      "metadata": {
        "id": "7j2V6h4Xmlzh"
      }
    },
    {
      "cell_type": "code",
      "source": [
        "counties = [\"nairobi\", \"kisumu\", \"kericho\", \"nakuru\", \"kilifi\", \"kiambu\", \"laikipia\", \"nyeri\"]\n",
        "counties_array = np.array(counties).reshape(2,4)\n",
        "counties_array\n"
      ],
      "metadata": {
        "colab": {
          "base_uri": "https://localhost:8080/"
        },
        "id": "bPhr_yfsmsI-",
        "outputId": "6c110a60-b714-48e0-9e75-2ec2ef162067"
      },
      "execution_count": 16,
      "outputs": [
        {
          "output_type": "execute_result",
          "data": {
            "text/plain": [
              "array([['nairobi', 'kisumu', 'kericho', 'nakuru'],\n",
              "       ['kilifi', 'kiambu', 'laikipia', 'nyeri']], dtype='<U8')"
            ]
          },
          "metadata": {},
          "execution_count": 16
        }
      ]
    },
    {
      "cell_type": "code",
      "source": [
        "kericho_county = counties_array[0, 2]\n",
        "kericho_county"
      ],
      "metadata": {
        "colab": {
          "base_uri": "https://localhost:8080/",
          "height": 36
        },
        "id": "vZEXT4dfnueC",
        "outputId": "c48c5148-e385-4d10-f86e-bb78afdf2c12"
      },
      "execution_count": 17,
      "outputs": [
        {
          "output_type": "execute_result",
          "data": {
            "text/plain": [
              "'kericho'"
            ],
            "application/vnd.google.colaboratory.intrinsic+json": {
              "type": "string"
            }
          },
          "metadata": {},
          "execution_count": 17
        }
      ]
    },
    {
      "cell_type": "code",
      "source": [
        "kilifi_county = counties_array[1, 0]\n",
        "kilifi_county"
      ],
      "metadata": {
        "colab": {
          "base_uri": "https://localhost:8080/",
          "height": 36
        },
        "id": "qZL5zy-DoD5x",
        "outputId": "1a3ce23d-3b5d-44da-d990-6659c831a93b"
      },
      "execution_count": 18,
      "outputs": [
        {
          "output_type": "execute_result",
          "data": {
            "text/plain": [
              "'kilifi'"
            ],
            "application/vnd.google.colaboratory.intrinsic+json": {
              "type": "string"
            }
          },
          "metadata": {},
          "execution_count": 18
        }
      ]
    },
    {
      "cell_type": "code",
      "source": [
        "# access for all(:) the record, the first two columns\n",
        "counties_array.shape\n",
        "counties_array[:, :2]"
      ],
      "metadata": {
        "colab": {
          "base_uri": "https://localhost:8080/"
        },
        "id": "v02QldbMoUOw",
        "outputId": "5bae0e54-87d7-4353-cd53-6f5cdf07ed0d"
      },
      "execution_count": 21,
      "outputs": [
        {
          "output_type": "execute_result",
          "data": {
            "text/plain": [
              "array([['nairobi', 'kisumu'],\n",
              "       ['kilifi', 'kiambu']], dtype='<U8')"
            ]
          },
          "metadata": {},
          "execution_count": 21
        }
      ]
    },
    {
      "cell_type": "code",
      "source": [
        "# first record, all the columns\n",
        "counties_array[0, :]"
      ],
      "metadata": {
        "colab": {
          "base_uri": "https://localhost:8080/"
        },
        "id": "TkTxnNItpC7a",
        "outputId": "f237efdf-2622-4aab-e95c-c0e14fa661e9"
      },
      "execution_count": 22,
      "outputs": [
        {
          "output_type": "execute_result",
          "data": {
            "text/plain": [
              "array(['nairobi', 'kisumu', 'kericho', 'nakuru'], dtype='<U8')"
            ]
          },
          "metadata": {},
          "execution_count": 22
        }
      ]
    },
    {
      "cell_type": "markdown",
      "source": [
        "### Filtering Numpy Arrays(Conditions)"
      ],
      "metadata": {
        "id": "qdx3Kd-yp1yo"
      }
    },
    {
      "cell_type": "code",
      "source": [
        "sales_array"
      ],
      "metadata": {
        "colab": {
          "base_uri": "https://localhost:8080/"
        },
        "id": "5ljtuFubp9Uh",
        "outputId": "c47f21c5-8f7f-423f-eeb8-1c460c3fc280"
      },
      "execution_count": 23,
      "outputs": [
        {
          "output_type": "execute_result",
          "data": {
            "text/plain": [
              "array([[   0,    5,  155,    0,  518],\n",
              "       [   0, 1827,  616,  317,  325]])"
            ]
          },
          "metadata": {},
          "execution_count": 23
        }
      ]
    },
    {
      "cell_type": "code",
      "source": [
        "condition = sales_array != 0\n",
        "sales_array[condition]"
      ],
      "metadata": {
        "colab": {
          "base_uri": "https://localhost:8080/"
        },
        "id": "-B7p5DgeqFMo",
        "outputId": "a25d8f54-b6ab-408d-c7be-58998469d7a6"
      },
      "execution_count": 25,
      "outputs": [
        {
          "output_type": "execute_result",
          "data": {
            "text/plain": [
              "array([   5,  155,  518, 1827,  616,  317,  325])"
            ]
          },
          "metadata": {},
          "execution_count": 25
        }
      ]
    },
    {
      "cell_type": "code",
      "source": [
        "# filtering arrays with multiple conditions\n",
        "sales_array"
      ],
      "metadata": {
        "colab": {
          "base_uri": "https://localhost:8080/"
        },
        "id": "mleDbA1Dqy6m",
        "outputId": "1056abe6-e4b8-4109-c167-bd0d9b94a8b5"
      },
      "execution_count": 26,
      "outputs": [
        {
          "output_type": "execute_result",
          "data": {
            "text/plain": [
              "array([[   0,    5,  155,    0,  518],\n",
              "       [   0, 1827,  616,  317,  325]])"
            ]
          },
          "metadata": {},
          "execution_count": 26
        }
      ]
    },
    {
      "cell_type": "code",
      "source": [
        "condition = (sales_array == 616) | (sales_array < 100)\n",
        "sales_array[condition]"
      ],
      "metadata": {
        "colab": {
          "base_uri": "https://localhost:8080/"
        },
        "id": "VZLVB0lTrBtv",
        "outputId": "cceb221a-6b77-413f-fe8a-5f8c25969357"
      },
      "execution_count": 28,
      "outputs": [
        {
          "output_type": "execute_result",
          "data": {
            "text/plain": [
              "array([  0,   5,   0,   0, 616])"
            ]
          },
          "metadata": {},
          "execution_count": 28
        }
      ]
    },
    {
      "cell_type": "code",
      "source": [
        "# Filtering using where(condition, ifblock, elseblock) condition\n",
        "sales_inventory = np.array([12, 18, 102, 0, 0])\n",
        "sales_inventory"
      ],
      "metadata": {
        "colab": {
          "base_uri": "https://localhost:8080/"
        },
        "id": "gP3DYTu1s3FO",
        "outputId": "4054ee32-5c4e-40c7-9b61-37a1acda8440"
      },
      "execution_count": 29,
      "outputs": [
        {
          "output_type": "execute_result",
          "data": {
            "text/plain": [
              "array([ 12,  18, 102,   0,   0])"
            ]
          },
          "metadata": {},
          "execution_count": 29
        }
      ]
    },
    {
      "cell_type": "code",
      "source": [
        "# where\n",
        "np.where(sales_inventory <= 0, \"Out of Stock\", \"In Stock\")"
      ],
      "metadata": {
        "colab": {
          "base_uri": "https://localhost:8080/"
        },
        "id": "p3_Y9uTUtfg0",
        "outputId": "301bf553-0141-45b4-f428-98402564568a"
      },
      "execution_count": 30,
      "outputs": [
        {
          "output_type": "execute_result",
          "data": {
            "text/plain": [
              "array(['In Stock', 'In Stock', 'In Stock', 'Out of Stock', 'Out of Stock'],\n",
              "      dtype='<U12')"
            ]
          },
          "metadata": {},
          "execution_count": 30
        }
      ]
    },
    {
      "cell_type": "code",
      "source": [
        "# products array\n",
        "products_array = np.array([\"egg\", \"milk\", \"bread\", \"rice\", \"beans\"])\n",
        "products_array"
      ],
      "metadata": {
        "colab": {
          "base_uri": "https://localhost:8080/"
        },
        "id": "D9JHEdNMt5_U",
        "outputId": "b6e8934e-919b-402c-f4fc-2ca352f86f47"
      },
      "execution_count": 32,
      "outputs": [
        {
          "output_type": "execute_result",
          "data": {
            "text/plain": [
              "array(['egg', 'milk', 'bread', 'rice', 'beans'], dtype='<U5')"
            ]
          },
          "metadata": {},
          "execution_count": 32
        }
      ]
    },
    {
      "cell_type": "code",
      "source": [
        "np.where(sales_inventory <= 0, \"Out of Stock\", products_array)"
      ],
      "metadata": {
        "colab": {
          "base_uri": "https://localhost:8080/"
        },
        "id": "TV-Q8QJxuLhq",
        "outputId": "96fdbe27-f0c9-4f43-de9d-08865f619b8f"
      },
      "execution_count": 33,
      "outputs": [
        {
          "output_type": "execute_result",
          "data": {
            "text/plain": [
              "array(['egg', 'milk', 'bread', 'Out of Stock', 'Out of Stock'],\n",
              "      dtype='<U12')"
            ]
          },
          "metadata": {},
          "execution_count": 33
        }
      ]
    },
    {
      "cell_type": "markdown",
      "source": [
        "### Array Aggregation Methods\n",
        "1. sum()\n",
        "2. mean()\n",
        "3. count()\n",
        "4. median()\n",
        "5. std()\n",
        "6. var()\n",
        "7. max()\n",
        "8. min()\n"
      ],
      "metadata": {
        "id": "yIHYlAibu4Ub"
      }
    },
    {
      "cell_type": "code",
      "source": [
        "sales_array"
      ],
      "metadata": {
        "colab": {
          "base_uri": "https://localhost:8080/"
        },
        "id": "GDBLN_jTvQFs",
        "outputId": "3d47f311-04b1-4365-c317-ef7054409f54"
      },
      "execution_count": 34,
      "outputs": [
        {
          "output_type": "execute_result",
          "data": {
            "text/plain": [
              "array([[   0,    5,  155,    0,  518],\n",
              "       [   0, 1827,  616,  317,  325]])"
            ]
          },
          "metadata": {},
          "execution_count": 34
        }
      ]
    },
    {
      "cell_type": "code",
      "source": [
        "total_sales = sales_array.sum()"
      ],
      "metadata": {
        "colab": {
          "base_uri": "https://localhost:8080/"
        },
        "id": "zgHboqbWvaAc",
        "outputId": "31fd3f04-6d16-4e23-cfdf-5206c97a60bf"
      },
      "execution_count": 35,
      "outputs": [
        {
          "output_type": "execute_result",
          "data": {
            "text/plain": [
              "3763"
            ]
          },
          "metadata": {},
          "execution_count": 35
        }
      ]
    },
    {
      "cell_type": "code",
      "source": [
        "sales_array.min()"
      ],
      "metadata": {
        "colab": {
          "base_uri": "https://localhost:8080/"
        },
        "id": "ejheG4dbvkrP",
        "outputId": "1504974d-c07c-4276-ac10-8da8dadae161"
      },
      "execution_count": 36,
      "outputs": [
        {
          "output_type": "execute_result",
          "data": {
            "text/plain": [
              "0"
            ]
          },
          "metadata": {},
          "execution_count": 36
        }
      ]
    },
    {
      "cell_type": "code",
      "source": [
        "sales_array.max()"
      ],
      "metadata": {
        "colab": {
          "base_uri": "https://localhost:8080/"
        },
        "id": "vcT8DzdpvpFE",
        "outputId": "ba3b9591-7d7d-408e-d6ec-cec0e9bd7321"
      },
      "execution_count": 37,
      "outputs": [
        {
          "output_type": "execute_result",
          "data": {
            "text/plain": [
              "1827"
            ]
          },
          "metadata": {},
          "execution_count": 37
        }
      ]
    },
    {
      "cell_type": "code",
      "source": [
        "sales_array.mean()"
      ],
      "metadata": {
        "colab": {
          "base_uri": "https://localhost:8080/"
        },
        "id": "OVyk3v04vzzb",
        "outputId": "d7c04ecf-7370-4ae6-b81a-7ba879c68829"
      },
      "execution_count": 38,
      "outputs": [
        {
          "output_type": "execute_result",
          "data": {
            "text/plain": [
              "376.3"
            ]
          },
          "metadata": {},
          "execution_count": 38
        }
      ]
    },
    {
      "cell_type": "code",
      "source": [
        "sales_array.std()"
      ],
      "metadata": {
        "colab": {
          "base_uri": "https://localhost:8080/"
        },
        "id": "bYNTKQo1v6dO",
        "outputId": "4a1e9511-ccce-4f46-d1e7-a3da03b76b33"
      },
      "execution_count": 39,
      "outputs": [
        {
          "output_type": "execute_result",
          "data": {
            "text/plain": [
              "529.1366647662965"
            ]
          },
          "metadata": {},
          "execution_count": 39
        }
      ]
    },
    {
      "cell_type": "code",
      "source": [
        "sales_array.var()"
      ],
      "metadata": {
        "colab": {
          "base_uri": "https://localhost:8080/"
        },
        "id": "QbPoEqlKv_9s",
        "outputId": "d0a32654-809d-405f-ea2c-3156f495f234"
      },
      "execution_count": 40,
      "outputs": [
        {
          "output_type": "execute_result",
          "data": {
            "text/plain": [
              "279985.61"
            ]
          },
          "metadata": {},
          "execution_count": 40
        }
      ]
    },
    {
      "cell_type": "code",
      "source": [
        "np.percentile(sales_array, [25, 75])"
      ],
      "metadata": {
        "colab": {
          "base_uri": "https://localhost:8080/"
        },
        "id": "AT_AVC4NwFkF",
        "outputId": "40cedb27-d942-42ff-fae7-04ec2885df47"
      },
      "execution_count": 41,
      "outputs": [
        {
          "output_type": "execute_result",
          "data": {
            "text/plain": [
              "array([  1.25, 469.75])"
            ]
          },
          "metadata": {},
          "execution_count": 41
        }
      ]
    }
  ]
}